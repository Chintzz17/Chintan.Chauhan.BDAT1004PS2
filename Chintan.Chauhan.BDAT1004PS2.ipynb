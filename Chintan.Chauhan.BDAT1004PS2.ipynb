{
 "cells": [
  {
   "cell_type": "markdown",
   "id": "96a3f400",
   "metadata": {},
   "source": [
    "# Problem Set 2"
   ]
  },
  {
   "cell_type": "markdown",
   "id": "05604eda",
   "metadata": {},
   "source": [
    "# Question 1\n",
    "Consider the following Python module:  \n",
    "a = 0  \n",
    "def b():  \n",
    " global a  \n",
    " a = c(a)  \n",
    "def c(a):  \n",
    " return a + 2  \n",
    "After importing the module into the interpreter, you execute:  \n",
    "##### >>> b()  \n",
    "##### >>> b()  \n",
    "##### >>> b()  \n",
    "##### >>> a ?  \n",
    "What value is displayed when the last expression (a) is evaluated? Explain your answer by indicating what happens in every executed statement."
   ]
  },
  {
   "cell_type": "code",
   "execution_count": 21,
   "id": "26ecef0e",
   "metadata": {},
   "outputs": [],
   "source": [
    "a = 0\n",
    "#function c(a) takes the current value of a, adds 2 to it, and returns the result.\n",
    "def b(): \n",
    "    global a\n",
    "    a = c(a)\n",
    "#function c(a) takes the current value of a, adds 2 to it, and returns the result.\n",
    "def c(a):\n",
    "    return a + 2"
   ]
  },
  {
   "cell_type": "code",
   "execution_count": 19,
   "id": "5af87c9f",
   "metadata": {},
   "outputs": [],
   "source": [
    "b() #Inside b(), it sets a to the result of c(a), which is c(0) = 0 + 2 = 2\n",
    "b() #Inside b(), it sets a to the result of c(a), which is c(2) = 2 + 2 = 4\n",
    "b() #Inside b(), it sets a to the result of c(a), which is c(4) = 4 + 2 = 6"
   ]
  },
  {
   "cell_type": "code",
   "execution_count": 20,
   "id": "16734c63",
   "metadata": {},
   "outputs": [
    {
     "name": "stdout",
     "output_type": "stream",
     "text": [
      "6\n"
     ]
    }
   ],
   "source": [
    "print(a)"
   ]
  },
  {
   "cell_type": "markdown",
   "id": "c5cc1232",
   "metadata": {},
   "source": [
    "# Question 2\n",
    "\n",
    "Function fileLength(), given to you, takes the name of a file as input and returns the length of the file:  \n",
    "##### >>> fileLength('midterm.py')  \n",
    "284\n",
    "##### >>> fileLength('idterm.py')  \n",
    "Traceback (most recent call last):  \n",
    "File \"<pyshell#34>\", line 1, in <module>  \n",
    "   fileLength('idterm.py')  \n",
    "File \"/Users/me/midterm.py\", line 3, in fileLength  \n",
    "    infile = open(filename)  \n",
    " FileNotFoundError: [Errno 2] No such file or directory:  \n",
    "    'idterm.py'  \n",
    "As shown above, if the file cannot be found by the interpreter or if it cannot be read as a text file, an exception will be raised. Modify function fileLength() so that a friendly message is printed instead:  \n",
    "#####    >>> fileLength('midterm.py') \n",
    "    358\n",
    "##### >>> fileLength('idterm.py')\n",
    "File idterm.py not found.\n"
   ]
  },
  {
   "cell_type": "code",
   "execution_count": 3,
   "id": "a8013a14",
   "metadata": {},
   "outputs": [
    {
     "name": "stdout",
     "output_type": "stream",
     "text": [
      "Length Of midterm.py is: 181\n",
      "No such file named idterm.py\n"
     ]
    }
   ],
   "source": [
    "def fileLength(FileName):\n",
    "    try:\n",
    "        file = open(FileName)#opening file\n",
    "        letters = file.read()\n",
    "        count = len(letters)#countin gthe lenghth of characters\n",
    "        print(f\"Length Of {FileName} is: {count}\")\n",
    "    except:\n",
    "        print(f\"No such file named {FileName}\")\n",
    "\n",
    "fileLength('midterm.py')\n",
    "fileLength('idterm.py')"
   ]
  },
  {
   "cell_type": "markdown",
   "id": "34c44f5f",
   "metadata": {},
   "source": [
    "# Question 3\n",
    "Write a class named Marsupial that can be used as shown below:\n",
    "##### >>> m = Marsupial()\n",
    "##### >>> m.put_in_pouch('doll')\n",
    "##### >>> m.put_in_pouch('firetruck')\n",
    "##### >>> m.put_in_pouch('kitten')\n",
    "##### >>> m.pouch_contents()\n",
    "['doll', 'firetruck', 'kitten']  \n",
    "Now write a class named Kangaroo as a subclass of Marsupial that inherits all the attributes of Marsupial and also:  \n",
    "a. extends the Marsupial __init__ constructor to take, as input, the coordinates x and y of the Kangaroo object,  \n",
    "b. supports method jump that takes number values dx and dy as input and moves the kangaroo by dx units along the x-axis and by dy units along the yaxis, and  \n",
    "c. overloads the __str__ operator so it behaves as shown below.\n",
    "##### >>> k = Kangaroo(0,0)\n",
    "##### >>> print(k)\n",
    "I am a Kangaroo located at coordinates (0,0)\n",
    "##### >>> k.put_in_pouch('doll')\n",
    "##### >>> k.put_in_pouch('firetruck')\n",
    "##### >>> k.put_in_pouch('kitten')\n",
    "##### >>> k.pouch_contents()\n",
    "['doll', 'firetruck', 'kitten']\n",
    "##### >>> k.jump(1,0)\n",
    "##### >>> k.jump(1,0)\n",
    "##### >>> k.jump(1,0)\n",
    "##### >>> print(k)\n",
    "I am a Kangaroo located at coordinates (3,0)"
   ]
  },
  {
   "cell_type": "code",
   "execution_count": 4,
   "id": "20be6404",
   "metadata": {},
   "outputs": [
    {
     "name": "stdout",
     "output_type": "stream",
     "text": [
      "I am a Kangaroo located at coordinates (0,0)\n",
      "['doll', 'firetruck', 'kitten']\n",
      "I am a Kangaroo located at coordinates (3,0)\n"
     ]
    }
   ],
   "source": [
    "class Marsupial:\n",
    "    def __init__(D):\n",
    "        D.pouch = []\n",
    "\n",
    "    def put_in_pouch(D, item):\n",
    "        D.pouch.append(item)\n",
    "\n",
    "    def pouch_contents(D):\n",
    "        return D.pouch\n",
    "\n",
    "class Kangaroo(Marsupial):\n",
    "    def __init__(D, x, y):\n",
    "        super().__init__()\n",
    "        D.x = x\n",
    "        D.y = y\n",
    "\n",
    "    def jump(D, dx, dy):\n",
    "        D.x += dx\n",
    "        D.y += dy\n",
    "\n",
    "    def __str__(D):\n",
    "        return f\"I am a Kangaroo located at coordinates ({D.x},{D.y})\"\n",
    "\n",
    "k = Kangaroo(0, 0)\n",
    "print(k)\n",
    "k.put_in_pouch('doll')\n",
    "k.put_in_pouch('firetruck')\n",
    "k.put_in_pouch('kitten')\n",
    "print(k.pouch_contents())\n",
    "\n",
    "k.jump(1, 0)\n",
    "k.jump(1, 0)\n",
    "k.jump(1, 0)\n",
    "print(k)\n"
   ]
  },
  {
   "cell_type": "markdown",
   "id": "e575ea4b",
   "metadata": {},
   "source": [
    "# Question 4\n",
    "Write function collatz() that takes a positive integer x as input and prints the Collatz sequence starting at x. A Collatz sequence is obtained by repeatedly applying this rule to the previous number x in the sequence:  \n",
    "x = {  \n",
    "𝑥/2 𝑖𝑓 𝑥 𝑖𝑠 𝑒𝑣𝑒𝑛  \n",
    "3𝑥 + 1 𝑖𝑓 𝑥 𝑖𝑠 𝑜𝑑𝑑  \n",
    "Your function should stop when the sequence gets to number 1. Your implementation must be recursive, without any loops."
   ]
  },
  {
   "cell_type": "code",
   "execution_count": 1,
   "id": "2d679b91",
   "metadata": {},
   "outputs": [
    {
     "name": "stdout",
     "output_type": "stream",
     "text": [
      "1 \n",
      "10 5 16 8 4 2 1 \n"
     ]
    }
   ],
   "source": [
    "def collatz(x):\n",
    "    print(x, end=\" \")  # Print the current value of x\n",
    "    if x == 1:\n",
    "        return\n",
    "    elif x % 2 == 0:\n",
    "        collatz(x // 2)  # If x is even, divide it by 2\n",
    "    else:\n",
    "        collatz(3 * x + 1)  # If x is odd, apply the 3x + 1 rule\n",
    "\n",
    "collatz(1)\n",
    "print()  # Print a newline for better formatting\n",
    "\n",
    "collatz(10)\n",
    "print()\n"
   ]
  },
  {
   "cell_type": "markdown",
   "id": "e119bcef",
   "metadata": {},
   "source": [
    "# Question 5\n",
    "Write a recursive method binary() that takes a non-negative integer n and prints the binary representation of integer n.\n",
    "###### >>> binary(0)\n",
    "0\n",
    "###### >>> binary(1)\n",
    "1\n",
    "###### >>> binary(3)\n",
    "11\n",
    "###### >>> binary(9)\n",
    "1001\n"
   ]
  },
  {
   "cell_type": "code",
   "execution_count": 4,
   "id": "d9e9820e",
   "metadata": {},
   "outputs": [
    {
     "name": "stdout",
     "output_type": "stream",
     "text": [
      "0\n",
      "1\n",
      "11\n",
      "1001\n"
     ]
    }
   ],
   "source": [
    "def binary(n):\n",
    "    if n == 0:\n",
    "        print(0, end=\"\")\n",
    "    elif n == 1:\n",
    "        print(1, end=\"\")\n",
    "    else:\n",
    "        binary(n // 2)  # Recursively call binary \n",
    "        print(n % 2, end=\"\")\n",
    "binary(0)\n",
    "print()  # Print a newline for better formatting\n",
    "\n",
    "binary(1)\n",
    "print()\n",
    "\n",
    "binary(3)\n",
    "print()\n",
    "\n",
    "binary(9)\n",
    "print()"
   ]
  },
  {
   "cell_type": "markdown",
   "id": "f6ab86f9",
   "metadata": {},
   "source": [
    "# Question 6\n",
    "Implement a class named HeadingParser that can be used to parse an HTML document, and retrieve and print all the headings in the document. You should implement your class as a subclass of HTMLParser, defined in Standard Library module html.parser. When fed a string containing HTML code, your class should print the headings, one per line and in the order in which they appear in the\n",
    "document. Each heading should be indented as follows: an h1 heading should have indentation 0, and h2 heading should have indentation 1, etc. Test your implementation using w3c.html.\n",
    "###### >>> infile = open('w3c.html')\n",
    "###### >>> content = infile.read()\n",
    "###### >>> infile.close()\n",
    "###### >>> hp = HeadingParser()\n",
    "###### >>> hp.feed(content)\n",
    "W3C Mission\n",
    "Principles"
   ]
  },
  {
   "cell_type": "code",
   "execution_count": 7,
   "id": "833ee49b",
   "metadata": {},
   "outputs": [
    {
     "name": "stdout",
     "output_type": "stream",
     "text": [
      "W3C Mission\n",
      "\n",
      "    Principles\n",
      "    \n",
      "    \n"
     ]
    }
   ],
   "source": [
    "from html.parser import HTMLParser\n",
    "\n",
    "class HeadingParser(HTMLParser):\n",
    "    def __init__(self):\n",
    "        super().__init__()\n",
    "        self.headings = []  # Initialize a list to store headings\n",
    "        self.current_heading = None  # Initialize the current heading\n",
    "\n",
    "    def handle_starttag(self, tag, attrs):\n",
    "        if tag.startswith(\"h\") and tag[1:].isdigit():\n",
    "            # Check if the tag is an h1, h2, etc.\n",
    "            heading_level = int(tag[1])\n",
    "            self.current_heading = (heading_level - 1) * \"    \"  # Indentation\n",
    "        else:\n",
    "            self.current_heading = None\n",
    "\n",
    "    def handle_data(self, data):\n",
    "        if self.current_heading is not None:\n",
    "            self.headings.append(f\"{self.current_heading}{data.strip()}\")\n",
    "\n",
    "    def print_headings(self):\n",
    "        for heading in self.headings:\n",
    "            print(heading)\n",
    "\n",
    "# Test the HeadingParser\n",
    "infile = open('w3c.html', 'r', encoding='utf-8')\n",
    "content = infile.read()\n",
    "infile.close()\n",
    "\n",
    "hp = HeadingParser()\n",
    "hp.feed(content)\n",
    "hp.print_headings()\n"
   ]
  },
  {
   "cell_type": "markdown",
   "id": "b53e03f7",
   "metadata": {},
   "source": [
    "# Question 7\n",
    "Implement recursive function webdir() that takes as input: a URL (as a string) and non-negative integers depth and indent. Your function should visit every web page reachable from the starting URL web page in depth clicks or less, and print each web page's URL. As shown below, indentation, specified by indent, should be used to indicate the depth of a URL.\n",
    "\n",
    "webdir('http://reed.cs.depaul.edu/lperkovic/csc242/test1.html', 2, 0)  \n",
    "http://reed.cs.depaul.edu/lperkovic/csc242/test1.html  \n",
    "http://reed.cs.depaul.edu/lperkovic/csc242/test2.html  \n",
    "http://reed.cs.depaul.edu/lperkovic/csc242/test4.html  \n",
    "http://reed.cs.depaul.edu/lperkovic/csc242/test3.html  \n",
    "http://reed.cs.depaul.edu/lperkovic/csc242/test4.html"
   ]
  },
  {
   "cell_type": "code",
   "execution_count": 38,
   "id": "e244d495",
   "metadata": {},
   "outputs": [
    {
     "name": "stdout",
     "output_type": "stream",
     "text": [
      "https://heyplaces.in/Kolkata/023398/Kolkata\n",
      "https://heyplaces.in/Kolkata/02537483/Kolkata_-_The_City_of_Joy\n",
      "https://heyplaces.in/Kolkata/041595/West_Bengal\n",
      "https://heyplaces.in/Kolkata/023395/Howrah,_India\n",
      "https://heyplaces.in/Kolkata/03434302/Makati_Kolkata\n",
      "https://heyplaces.in/Kolkata/02381829/Eco_Park,_New_Town,_Kolkata\n",
      "https://heyplaces.in/Kolkata/03934146/Newtown,kolkata\n",
      "https://heyplaces.in/Kolkata/02489763/PUB13\n",
      "https://heyplaces.in/Kolkata/02564427/Roxy_at_the_Park_Kolkata\n",
      "https://heyplaces.in/Kolkata/03035562/Kolkata_city_of_joy\n"
     ]
    }
   ],
   "source": [
    "import requests\n",
    "from bs4 import BeautifulSoup\n",
    "\n",
    "HEADERS = ({'User-Agent': 'Mozilla/5.0 (Windows NT 10.0; Win64; x64) AppleWebKit/537.36 (KHTML, like Gecko) Chrome/109.0.0.0 Safari/537.36','Accept-Language': 'en-US, en;q=0.5'})\n",
    "\n",
    "def all_link(URL):\n",
    "    \n",
    "    A = []\n",
    "    webpage = requests.get(URL, headers=HEADERS)\n",
    "    soup = BeautifulSoup(webpage.content, \"html.parser\")\n",
    "    links = soup.find_all(\"h3\") #finding all the h3 tags which contains \"href\" links\n",
    "\n",
    "    b = []\n",
    "\n",
    "    for li in links:\n",
    "        c = li.find(\"a\").get('href') #from a tag getting href link\n",
    "        b.append(\"https://heyplaces.in/Kolkata\" + c) #link is in short form so completing the link by adding mannual text and appending it to b\n",
    "\n",
    "    return b  # Return the list of links\n",
    "\n",
    "def webdir(URL, depth, indent):\n",
    "    if depth == 0:\n",
    "        return\n",
    "    b = all_link(URL)\n",
    "    for Li in b:\n",
    "        print(' ' * indent + Li)\n",
    "        webdir(Li, depth - 1, indent + 2)\n",
    "\n",
    "webdir('https://heyplaces.in/Kolkata/', 2, 0)\n"
   ]
  },
  {
   "cell_type": "markdown",
   "id": "ac7ac409",
   "metadata": {},
   "source": [
    "# Question 8\n",
    "Write SQL queries on the below database table that return:  \n",
    "a) All the temperature data.  \n",
    "b) All the cities, but without repetition.  \n",
    "c) All the records for India.  \n",
    "d) All the Fall records.  \n",
    "e) The city, country, and season for which the average rainfall is between 200\n",
    "and 400 millimeters.  \n",
    "f) The city and country for which the average Fall temperature is above 20\n",
    "degrees, in increasing temperature order.  \n",
    "g) The total annual rainfall for Cairo.  \n",
    "h) The total rainfall for each season."
   ]
  },
  {
   "cell_type": "code",
   "execution_count": 9,
   "id": "6547b400",
   "metadata": {},
   "outputs": [
    {
     "name": "stdout",
     "output_type": "stream",
     "text": [
      "Collecting ipython-sql\n",
      "  Downloading ipython_sql-0.5.0-py3-none-any.whl (20 kB)\n",
      "Requirement already satisfied: six in c:\\users\\chint\\anaconda3\\lib\\site-packages (from ipython-sql) (1.16.0)\n",
      "Collecting prettytable\n",
      "  Downloading prettytable-3.9.0-py3-none-any.whl (27 kB)\n",
      "Collecting sqlparse\n",
      "  Downloading sqlparse-0.4.4-py3-none-any.whl (41 kB)\n",
      "Collecting sqlalchemy>=2.0\n",
      "  Downloading SQLAlchemy-2.0.22-cp39-cp39-win_amd64.whl (2.1 MB)\n",
      "Requirement already satisfied: ipython in c:\\users\\chint\\anaconda3\\lib\\site-packages (from ipython-sql) (8.2.0)\n",
      "Requirement already satisfied: ipython-genutils in c:\\users\\chint\\anaconda3\\lib\\site-packages (from ipython-sql) (0.2.0)\n",
      "Collecting typing-extensions>=4.2.0\n",
      "  Downloading typing_extensions-4.8.0-py3-none-any.whl (31 kB)\n",
      "Requirement already satisfied: greenlet!=0.4.17 in c:\\users\\chint\\anaconda3\\lib\\site-packages (from sqlalchemy>=2.0->ipython-sql) (1.1.1)\n",
      "Requirement already satisfied: stack-data in c:\\users\\chint\\anaconda3\\lib\\site-packages (from ipython->ipython-sql) (0.2.0)\n",
      "Requirement already satisfied: decorator in c:\\users\\chint\\anaconda3\\lib\\site-packages (from ipython->ipython-sql) (5.1.1)\n",
      "Requirement already satisfied: pickleshare in c:\\users\\chint\\anaconda3\\lib\\site-packages (from ipython->ipython-sql) (0.7.5)\n",
      "Requirement already satisfied: prompt-toolkit!=3.0.0,!=3.0.1,<3.1.0,>=2.0.0 in c:\\users\\chint\\anaconda3\\lib\\site-packages (from ipython->ipython-sql) (3.0.20)\n",
      "Requirement already satisfied: traitlets>=5 in c:\\users\\chint\\anaconda3\\lib\\site-packages (from ipython->ipython-sql) (5.1.1)\n",
      "Requirement already satisfied: backcall in c:\\users\\chint\\anaconda3\\lib\\site-packages (from ipython->ipython-sql) (0.2.0)\n",
      "Requirement already satisfied: jedi>=0.16 in c:\\users\\chint\\anaconda3\\lib\\site-packages (from ipython->ipython-sql) (0.18.1)\n",
      "Requirement already satisfied: matplotlib-inline in c:\\users\\chint\\anaconda3\\lib\\site-packages (from ipython->ipython-sql) (0.1.2)\n",
      "Requirement already satisfied: setuptools>=18.5 in c:\\users\\chint\\anaconda3\\lib\\site-packages (from ipython->ipython-sql) (61.2.0)\n",
      "Requirement already satisfied: pygments>=2.4.0 in c:\\users\\chint\\anaconda3\\lib\\site-packages (from ipython->ipython-sql) (2.11.2)\n",
      "Requirement already satisfied: colorama in c:\\users\\chint\\anaconda3\\lib\\site-packages (from ipython->ipython-sql) (0.4.4)\n",
      "Requirement already satisfied: parso<0.9.0,>=0.8.0 in c:\\users\\chint\\anaconda3\\lib\\site-packages (from jedi>=0.16->ipython->ipython-sql) (0.8.3)\n",
      "Requirement already satisfied: wcwidth in c:\\users\\chint\\anaconda3\\lib\\site-packages (from prompt-toolkit!=3.0.0,!=3.0.1,<3.1.0,>=2.0.0->ipython->ipython-sql) (0.2.5)\n",
      "Requirement already satisfied: asttokens in c:\\users\\chint\\anaconda3\\lib\\site-packages (from stack-data->ipython->ipython-sql) (2.0.5)\n",
      "Requirement already satisfied: executing in c:\\users\\chint\\anaconda3\\lib\\site-packages (from stack-data->ipython->ipython-sql) (0.8.3)\n",
      "Requirement already satisfied: pure-eval in c:\\users\\chint\\anaconda3\\lib\\site-packages (from stack-data->ipython->ipython-sql) (0.2.2)\n",
      "Installing collected packages: typing-extensions, sqlparse, sqlalchemy, prettytable, ipython-sql\n",
      "  Attempting uninstall: typing-extensions\n",
      "    Found existing installation: typing-extensions 4.1.1\n",
      "    Uninstalling typing-extensions-4.1.1:\n",
      "      Successfully uninstalled typing-extensions-4.1.1\n",
      "  Attempting uninstall: sqlalchemy\n",
      "    Found existing installation: SQLAlchemy 1.4.32\n",
      "    Uninstalling SQLAlchemy-1.4.32:\n",
      "      Successfully uninstalled SQLAlchemy-1.4.32\n",
      "Successfully installed ipython-sql-0.5.0 prettytable-3.9.0 sqlalchemy-2.0.22 sqlparse-0.4.4 typing-extensions-4.8.0\n"
     ]
    }
   ],
   "source": [
    "!pip install ipython-sql\n"
   ]
  },
  {
   "cell_type": "code",
   "execution_count": 62,
   "id": "a2fb117d",
   "metadata": {},
   "outputs": [],
   "source": [
    "%reload_ext sql"
   ]
  },
  {
   "cell_type": "code",
   "execution_count": 63,
   "id": "9f954981",
   "metadata": {},
   "outputs": [
    {
     "name": "stdout",
     "output_type": "stream",
     "text": [
      "Done.\n"
     ]
    },
    {
     "data": {
      "text/plain": [
       "[]"
      ]
     },
     "execution_count": 63,
     "metadata": {},
     "output_type": "execute_result"
    }
   ],
   "source": [
    "%%sql sqlite:///my_database.db\n",
    "\n",
    "CREATE TABLE IF NOT EXISTS weather (\n",
    "    city TEXT,\n",
    "    country TEXT,\n",
    "    season TEXT,\n",
    "    temperature REAL,\n",
    "    rainfall REAL\n",
    ");"
   ]
  },
  {
   "cell_type": "code",
   "execution_count": 67,
   "id": "7890b0ca",
   "metadata": {},
   "outputs": [
    {
     "name": "stdout",
     "output_type": "stream",
     "text": [
      "12 rows affected.\n"
     ]
    },
    {
     "data": {
      "text/plain": [
       "[]"
      ]
     },
     "execution_count": 67,
     "metadata": {},
     "output_type": "execute_result"
    }
   ],
   "source": [
    "%%sql sqlite:///my_database.db\n",
    "\n",
    "INSERT OR REPLACE INTO weather (city, country, season, temperature, rainfall)\n",
    "VALUES\n",
    "    ('Mumbai', 'India', 'Winter', 24.8, 5.9),\n",
    "    ('Mumbai', 'India', 'Spring', 28.4, 16.2),\n",
    "    ('Mumbai', 'India', 'Summer', 27.9, 1549.4),\n",
    "    ('Mumbai', 'India', 'Fall', 27.6, 346.0),\n",
    "    ('London', 'United Kingdom', 'Winter', 4.2, 207.7),\n",
    "    ('London', 'United Kingdom', 'Spring', 8.3, 169.6),\n",
    "    ('London', 'United Kingdom', 'Summer', 15.7, 157.0),\n",
    "    ('London', 'United Kingdom', 'Fall', 10.4, 218.5),\n",
    "    ('Cairo', 'Egypt', 'Winter', 13.6, 16.5),\n",
    "    ('Cairo', 'Egypt', 'Spring', 20.7, 6.5),\n",
    "    ('Cairo', 'Egypt', 'Summer', 27.7, 0.1),\n",
    "    ('Cairo', 'Egypt', 'Fall', 22.2, 4.5);\n",
    "\n"
   ]
  },
  {
   "cell_type": "code",
   "execution_count": 73,
   "id": "7991df59",
   "metadata": {},
   "outputs": [
    {
     "name": "stdout",
     "output_type": "stream",
     "text": [
      "Done.\n"
     ]
    },
    {
     "data": {
      "text/html": [
       "<table>\n",
       "    <thead>\n",
       "        <tr>\n",
       "            <th>City</th>\n",
       "            <th>Country</th>\n",
       "            <th>Season</th>\n",
       "            <th>Temperature</th>\n",
       "            <th>Rainfall</th>\n",
       "        </tr>\n",
       "    </thead>\n",
       "    <tbody>\n",
       "        <tr>\n",
       "            <td>Mumbai</td>\n",
       "            <td>India</td>\n",
       "            <td>Winter</td>\n",
       "            <td>24.8</td>\n",
       "            <td>5.9</td>\n",
       "        </tr>\n",
       "        <tr>\n",
       "            <td>Mumbai</td>\n",
       "            <td>India</td>\n",
       "            <td>Spring</td>\n",
       "            <td>28.4</td>\n",
       "            <td>16.2</td>\n",
       "        </tr>\n",
       "        <tr>\n",
       "            <td>Mumbai</td>\n",
       "            <td>India</td>\n",
       "            <td>Summer</td>\n",
       "            <td>27.9</td>\n",
       "            <td>1549.4</td>\n",
       "        </tr>\n",
       "        <tr>\n",
       "            <td>Mumbai</td>\n",
       "            <td>India</td>\n",
       "            <td>Fall</td>\n",
       "            <td>27.6</td>\n",
       "            <td>346.0</td>\n",
       "        </tr>\n",
       "        <tr>\n",
       "            <td>London</td>\n",
       "            <td>United Kingdom</td>\n",
       "            <td>Winter</td>\n",
       "            <td>4.2</td>\n",
       "            <td>207.7</td>\n",
       "        </tr>\n",
       "        <tr>\n",
       "            <td>London</td>\n",
       "            <td>United Kingdom</td>\n",
       "            <td>Spring</td>\n",
       "            <td>8.3</td>\n",
       "            <td>169.6</td>\n",
       "        </tr>\n",
       "        <tr>\n",
       "            <td>London</td>\n",
       "            <td>United Kingdom</td>\n",
       "            <td>Summer</td>\n",
       "            <td>15.7</td>\n",
       "            <td>157.0</td>\n",
       "        </tr>\n",
       "        <tr>\n",
       "            <td>London</td>\n",
       "            <td>United Kingdom</td>\n",
       "            <td>Fall</td>\n",
       "            <td>10.4</td>\n",
       "            <td>218.5</td>\n",
       "        </tr>\n",
       "        <tr>\n",
       "            <td>Cairo</td>\n",
       "            <td>Egypt</td>\n",
       "            <td>Winter</td>\n",
       "            <td>13.6</td>\n",
       "            <td>16.5</td>\n",
       "        </tr>\n",
       "        <tr>\n",
       "            <td>Cairo</td>\n",
       "            <td>Egypt</td>\n",
       "            <td>Spring</td>\n",
       "            <td>20.7</td>\n",
       "            <td>6.5</td>\n",
       "        </tr>\n",
       "        <tr>\n",
       "            <td>Cairo</td>\n",
       "            <td>Egypt</td>\n",
       "            <td>Summer</td>\n",
       "            <td>27.7</td>\n",
       "            <td>0.1</td>\n",
       "        </tr>\n",
       "        <tr>\n",
       "            <td>Cairo</td>\n",
       "            <td>Egypt</td>\n",
       "            <td>Fall</td>\n",
       "            <td>22.2</td>\n",
       "            <td>4.5</td>\n",
       "        </tr>\n",
       "    </tbody>\n",
       "</table>"
      ],
      "text/plain": [
       "[('Mumbai', 'India', 'Winter', 24.8, 5.9),\n",
       " ('Mumbai', 'India', 'Spring', 28.4, 16.2),\n",
       " ('Mumbai', 'India', 'Summer', 27.9, 1549.4),\n",
       " ('Mumbai', 'India', 'Fall', 27.6, 346.0),\n",
       " ('London', 'United Kingdom', 'Winter', 4.2, 207.7),\n",
       " ('London', 'United Kingdom', 'Spring', 8.3, 169.6),\n",
       " ('London', 'United Kingdom', 'Summer', 15.7, 157.0),\n",
       " ('London', 'United Kingdom', 'Fall', 10.4, 218.5),\n",
       " ('Cairo', 'Egypt', 'Winter', 13.6, 16.5),\n",
       " ('Cairo', 'Egypt', 'Spring', 20.7, 6.5),\n",
       " ('Cairo', 'Egypt', 'Summer', 27.7, 0.1),\n",
       " ('Cairo', 'Egypt', 'Fall', 22.2, 4.5)]"
      ]
     },
     "execution_count": 73,
     "metadata": {},
     "output_type": "execute_result"
    }
   ],
   "source": [
    "%%sql sqlite:///my_database.db\n",
    "SELECT * FROM weather"
   ]
  },
  {
   "cell_type": "code",
   "execution_count": 72,
   "id": "988cf72a",
   "metadata": {
    "scrolled": false
   },
   "outputs": [
    {
     "name": "stdout",
     "output_type": "stream",
     "text": [
      "Temperature Data Information\n",
      " * sqlite:///my_database.db\n",
      "Done.\n",
      "+-------------+\n",
      "| Temperature |\n",
      "+-------------+\n",
      "|     24.8    |\n",
      "|     28.4    |\n",
      "|     27.9    |\n",
      "|     27.6    |\n",
      "|     4.2     |\n",
      "|     8.3     |\n",
      "|     15.7    |\n",
      "|     10.4    |\n",
      "|     13.6    |\n",
      "|     20.7    |\n",
      "|     27.7    |\n",
      "|     22.2    |\n",
      "+-------------+\n",
      "Information of All the Cities without repetition\n",
      " * sqlite:///my_database.db\n",
      "Done.\n",
      "+--------+\n",
      "|  City  |\n",
      "+--------+\n",
      "| Mumbai |\n",
      "| London |\n",
      "| Cairo  |\n",
      "+--------+\n",
      "Information of India\n",
      " * sqlite:///my_database.db\n",
      "Done.\n",
      "+--------+---------+--------+-------------+----------+\n",
      "|  City  | Country | Season | Temperature | Rainfall |\n",
      "+--------+---------+--------+-------------+----------+\n",
      "| Mumbai |  India  | Winter |     24.8    |   5.9    |\n",
      "| Mumbai |  India  | Spring |     28.4    |   16.2   |\n",
      "| Mumbai |  India  | Summer |     27.9    |  1549.4  |\n",
      "| Mumbai |  India  |  Fall  |     27.6    |  346.0   |\n",
      "+--------+---------+--------+-------------+----------+\n",
      "Information of Fall\n",
      " * sqlite:///my_database.db\n",
      "Done.\n",
      "+--------+----------------+--------+-------------+----------+\n",
      "|  City  |    Country     | Season | Temperature | Rainfall |\n",
      "+--------+----------------+--------+-------------+----------+\n",
      "| Mumbai |     India      |  Fall  |     27.6    |  346.0   |\n",
      "| London | United Kingdom |  Fall  |     10.4    |  218.5   |\n",
      "| Cairo  |     Egypt      |  Fall  |     22.2    |   4.5    |\n",
      "+--------+----------------+--------+-------------+----------+\n",
      "The city, country, and season for which the average rainfall is between 200 and 400 millimeters\n",
      " * sqlite:///my_database.db\n",
      "Done.\n",
      "+--------+----------------+--------+\n",
      "|  City  |    Country     | Season |\n",
      "+--------+----------------+--------+\n",
      "| London | United Kingdom |  Fall  |\n",
      "| London | United Kingdom | Winter |\n",
      "| Mumbai |     India      |  Fall  |\n",
      "+--------+----------------+--------+\n",
      " The city and country for which the average Fall temperature is above 20 degrees, in increasing temperature order\n",
      " * sqlite:///my_database.db\n",
      "Done.\n",
      "+--------+----------------+--------+\n",
      "|  City  |    Country     | Season |\n",
      "+--------+----------------+--------+\n",
      "| London | United Kingdom |  Fall  |\n",
      "| London | United Kingdom | Winter |\n",
      "| Mumbai |     India      |  Fall  |\n",
      "+--------+----------------+--------+\n",
      "The total annual rainfall for Cairo\n",
      " * sqlite:///my_database.db\n",
      "Done.\n",
      "+-------+-----------------------+\n",
      "|  City | Total_Annual_Rainfall |\n",
      "+-------+-----------------------+\n",
      "| Cairo |          27.6         |\n",
      "+-------+-----------------------+\n",
      "The total rainfall for each season\n",
      " * sqlite:///my_database.db\n",
      "Done.\n",
      "+--------+--------------------+\n",
      "| Season |   Total_Rainfall   |\n",
      "+--------+--------------------+\n",
      "|  Fall  |       569.0        |\n",
      "| Spring | 192.29999999999998 |\n",
      "| Summer |       1706.5       |\n",
      "| Winter |       230.1        |\n",
      "+--------+--------------------+\n"
     ]
    }
   ],
   "source": [
    "# a)\n",
    "print(\"Temperature Data Information\")\n",
    "Temp = %sql SELECT Temperature FROM weather\n",
    "print(Temp)\n",
    "\n",
    "# b)\n",
    "print(\"Information of All the Cities without repetition\")\n",
    "City = %sql SELECT DISTINCT City FROM weather\n",
    "print(City) \n",
    "\n",
    "# c) \n",
    "print(\"Information of India\")\n",
    "India_Info = %sql SELECT * FROM weather WHERE Country = 'India'\n",
    "print(India_Info) \n",
    "\n",
    "# d)\n",
    "print(\"Information of Fall\")\n",
    "Fall_Season_Info = %sql SELECT * FROM weather WHERE Season = 'Fall'\n",
    "print(Fall_Season_Info)\n",
    "\n",
    "# e)\n",
    "print(\"The city, country, and season for which the average rainfall is between 200 and 400 millimeters\")\n",
    "Avg_RainFall = %sql SELECT City, Country, Season FROM weather GROUP BY City, Country, Season HAVING AVG(Rainfall) BETWEEN 200 AND 400\n",
    "print(Avg_RainFall) \n",
    "\n",
    "# f)\n",
    "print(\" The city and country for which the average Fall temperature is above 20 degrees, in increasing temperature order\")\n",
    "Avg_Temprature = %sql SELECT City, Country, Season FROM weather GROUP BY City, Country, Season HAVING AVG(Rainfall) BETWEEN 200 AND 400\n",
    "print(Avg_Temprature)\n",
    "\n",
    "# g)\n",
    "print(\"The total annual rainfall for Cairo\")\n",
    "Annual_Rainfall = %sql SELECT City, SUM(Rainfall) AS Total_Annual_Rainfall FROM weather WHERE City = 'Cairo' GROUP BY City\n",
    "print(Annual_Rainfall)\n",
    "\n",
    "# h)\n",
    "print(\"The total rainfall for each season\")\n",
    "Total_Rainfall = %sql SELECT Season, SUM(Rainfall) AS Total_Rainfall FROM weather GROUP BY Season\n",
    "print(Total_Rainfall)"
   ]
  },
  {
   "cell_type": "markdown",
   "id": "ef814175",
   "metadata": {},
   "source": [
    "# Question 9\n",
    "\n",
    "Suppose list words is defined as follows:  \n",
    "\n",
    "words = ['The', 'quick', 'brown', 'fox', 'jumps', 'over','the', 'lazy', 'dog']  \n",
    "\n",
    "Write list comprehension expressions that use list words and generate the following lists:\n",
    "\n",
    "a) ['THE', 'QUICK', 'BROWN', 'FOX', 'JUMPS', 'OVER', 'THE','LAZY', 'DOG']  \n",
    "b) ['the', 'quick', 'brown', 'fox', 'jumps', 'over', 'the','lazy', 'dog']  \n",
    "c) [3, 5, 5, 3, 5, 4, 3, 4, 3] (the list of lengths of words in list words).  \n",
    "d) [['THE', 'the', 3], ['QUICK', 'quick', 5], ['BROWN','brown', 5], ['FOX', 'fox', 3], ['JUMPS', 'jumps', 5],['OVER', 'over',4 ['THE', 'the', 3], ['LAZY', 'lazy',4], ['DOG', 'dog', 3]] (the list containing a list for every word of list words, where each list contains the word in uppercase and lowercase and the length of the word.)  \n",
    "e) ['The', 'quick', 'brown', 'fox', 'jumps', 'over', 'the','lazy', 'dog']  \n",
    "(the list of words in list words containing 4 or more characters.)"
   ]
  },
  {
   "cell_type": "code",
   "execution_count": 75,
   "id": "90d8f994",
   "metadata": {
    "scrolled": true
   },
   "outputs": [
    {
     "name": "stdout",
     "output_type": "stream",
     "text": [
      "['THE', 'QUICK', 'BROWN', 'FOX', 'JUMPS', 'OVER', 'THE', 'LAZY', 'DOG']\n",
      "\n",
      "['the', 'quick', 'brown', 'fox', 'jumps', 'over', 'the', 'lazy', 'dog']\n",
      "\n",
      "[3, 5, 5, 3, 5, 4, 3, 4, 3]\n",
      "\n",
      "[['THE', 'the', 3], ['QUICK', 'quick', 5], ['BROWN', 'brown', 5], ['FOX', 'fox', 3], ['JUMPS', 'jumps', 5], ['OVER', 'over', 4], ['THE', 'the', 3], ['LAZY', 'lazy', 4], ['DOG', 'dog', 3]]\n",
      "\n",
      "['quick', 'brown', 'jumps', 'over', 'lazy']\n"
     ]
    }
   ],
   "source": [
    "words = ['The', 'quick', 'brown', 'fox', 'jumps', 'over', 'the', 'lazy', 'dog']\n",
    "\n",
    "#a) Words in Uppercase\n",
    "UPPERCASE = [word.upper() for word in words] \n",
    "\n",
    "# b) Words in Lowercase\n",
    "LOWERCASE = [word.lower() for word in words] \n",
    "\n",
    "#c) Length of words\n",
    "Length = [len(word) for word in words] \n",
    "\n",
    "#d) List of information with Uppercase, Lowercase and Word Length\n",
    "Word_Info = [[word.upper(), word.lower(), len(word)] for word in words] \n",
    "\n",
    "#e) Words with 4 or more characters\n",
    "More_than_4_Words = [word for word in words if len(word) >= 4] \n",
    "\n",
    "print(UPPERCASE)\n",
    "print()\n",
    "print(LOWERCASE)\n",
    "print()\n",
    "print(Length)\n",
    "print()\n",
    "print(Word_Info)\n",
    "print()\n",
    "print(More_than_4_Words)"
   ]
  },
  {
   "cell_type": "code",
   "execution_count": null,
   "id": "9b049ac0",
   "metadata": {},
   "outputs": [],
   "source": []
  }
 ],
 "metadata": {
  "kernelspec": {
   "display_name": "Python 3 (ipykernel)",
   "language": "python",
   "name": "python3"
  },
  "language_info": {
   "codemirror_mode": {
    "name": "ipython",
    "version": 3
   },
   "file_extension": ".py",
   "mimetype": "text/x-python",
   "name": "python",
   "nbconvert_exporter": "python",
   "pygments_lexer": "ipython3",
   "version": "3.9.12"
  }
 },
 "nbformat": 4,
 "nbformat_minor": 5
}
